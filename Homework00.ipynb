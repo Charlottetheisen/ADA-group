{
 "cells": [
  {
   "cell_type": "markdown",
   "metadata": {
    "collapsed": true
   },
   "source": [
    "Homework00"
   ]
  },
  {
   "cell_type": "markdown",
   "metadata": {},
   "source": [
    "In this homework we will try to recreate the results from the Death Shots dataset"
   ]
  },
  {
   "cell_type": "code",
   "execution_count": 19,
   "metadata": {},
   "outputs": [],
   "source": [
    "import csv\n",
    "\n",
    "index = []\n",
    "year = []\n",
    "month = []\n",
    "intent = []\n",
    "police = []\n",
    "sex = []\n",
    "age = []\n",
    "race =[]\n",
    "hispanic = []\n",
    "place = []\n",
    "education = []\n",
    " \n",
    "with open('full_data.csv') as csvDataFile:\n",
    "    csvReader = csv.reader(csvDataFile)\n",
    "    next(csvReader, None)\n",
    "    for row in csvReader:\n",
    "        index.append(row[0])\n",
    "        year.append(row[1])\n",
    "        month.append(row[2])\n",
    "        intent.append(row[3])\n",
    "        police.append(row[4])\n",
    "        sex.append(row[5])\n",
    "        age.append(row[6])\n",
    "        race.append(row[7])\n",
    "        hispanic.append(row[8])\n",
    "        place.append(row[9])\n",
    "        education.append(row[10])\n",
    "        "
   ]
  },
  {
   "cell_type": "markdown",
   "metadata": {},
   "source": [
    "First we will show that the number of fatal gun shots is higher than 33.000 each year."
   ]
  },
  {
   "cell_type": "code",
   "execution_count": 23,
   "metadata": {},
   "outputs": [
    {
     "name": "stdout",
     "output_type": "stream",
     "text": [
      "In 2012 there were 33563 fatal gun shots.\n",
      "In 2013 there were 33636 fatal gun shots.\n",
      "In 2014 there were 33599 fatal gun shots.\n"
     ]
    }
   ],
   "source": [
    "years = set(year)\n",
    "for y in years:\n",
    "    number = year.count(y)\n",
    "    print('In ' + str(y) + ' there were ' + str(number) + ' fatal gun shots.')\n",
    "    "
   ]
  },
  {
   "cell_type": "markdown",
   "metadata": {},
   "source": [
    "We will now examine how many of the deaths are suicide."
   ]
  },
  {
   "cell_type": "code",
   "execution_count": 38,
   "metadata": {},
   "outputs": [
    {
     "name": "stdout",
     "output_type": "stream",
     "text": [
      "In year 2012 61.57% of the fatal gun shots were suicide.\n",
      "In year 2013 62.95% of the fatal gun shots were suicide.\n",
      "In year 2014 63.5% of the fatal gun shots were suicide.\n"
     ]
    }
   ],
   "source": [
    "for y in years:\n",
    "    count = 0\n",
    "    for i in range(0,len(year)):\n",
    "        if year[i] == y and intent[i] == 'Suicide':\n",
    "            count += 1\n",
    "    percent = round(count/year.count(y)*100,2)\n",
    "    print('In year ' + str(y) + ' ' + str(percent) + '% of the fatal gun shots were suicide.')"
   ]
  },
  {
   "cell_type": "code",
   "execution_count": null,
   "metadata": {
    "collapsed": true
   },
   "outputs": [],
   "source": [
    "We "
   ]
  }
 ],
 "metadata": {
  "kernelspec": {
   "display_name": "Python 3",
   "language": "python",
   "name": "python3"
  },
  "language_info": {
   "codemirror_mode": {
    "name": "ipython",
    "version": 3
   },
   "file_extension": ".py",
   "mimetype": "text/x-python",
   "name": "python",
   "nbconvert_exporter": "python",
   "pygments_lexer": "ipython3",
   "version": "3.6.1"
  }
 },
 "nbformat": 4,
 "nbformat_minor": 2
}
