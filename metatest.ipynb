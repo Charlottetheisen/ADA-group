{
 "cells": [
  {
   "cell_type": "code",
   "execution_count": 75,
   "metadata": {},
   "outputs": [],
   "source": [
    "import json\n",
    "import gzip\n",
    "import pandas as pd\n",
    "import matplotlib.pyplot as plt\n",
    "import pickle\n",
    "\n",
    "% matplotlib inline "
   ]
  },
  {
   "cell_type": "markdown",
   "metadata": {},
   "source": [
    "Before taking a closer look at the ratings we will consider the metadata dataset. In this dataset we will amongst other things find information about title, price, description, and the products each product is related to. In order to examine the metadata, we load part of it into a data frame to be able to see it and do some descriptive statistics."
   ]
  },
  {
   "cell_type": "code",
   "execution_count": 66,
   "metadata": {},
   "outputs": [],
   "source": [
    "def parse(path):\n",
    "  g = gzip.open(path, 'r')\n",
    "  for l in g:\n",
    "    yield eval(l)"
   ]
  },
  {
   "cell_type": "code",
   "execution_count": 67,
   "metadata": {},
   "outputs": [],
   "source": [
    "meta = parse('metadata.json.gz')"
   ]
  },
  {
   "cell_type": "markdown",
   "metadata": {},
   "source": [
    "We observe that by using the code provided on the website we load the data as a generate object. For the we use the keyword next in order to look through the data. For now, we will just examine the first data points and load all of it into a data frame. As shown in the code we were loading the first 1 million data points, but in the end we had to stop the run before time and ended up with a data frame with 137.885 records."
   ]
  },
  {
   "cell_type": "code",
   "execution_count": null,
   "metadata": {},
   "outputs": [],
   "source": [
    "df = pd.DataFrame([])\n",
    "for i in range(0,1000000):\n",
    "    x = next(meta) #next item in the generator\n",
    "    df2 = pd.DataFrame.from_dict(x,orient='index').transpose()\n",
    "    df = df.append(df2,ignore_index=True)"
   ]
  },
  {
   "cell_type": "markdown",
   "metadata": {},
   "source": [
    "To save time and be able to use the same data in different notebooks, we pickle the dataframe and load it again."
   ]
  },
  {
   "cell_type": "code",
   "execution_count": null,
   "metadata": {},
   "outputs": [],
   "source": [
    "pickling_on = open(\"df1.pickle\",\"wb\")\n",
    "pickle.dump(df, pickling_on)\n",
    "pickling_on.close()"
   ]
  },
  {
   "cell_type": "code",
   "execution_count": 72,
   "metadata": {},
   "outputs": [],
   "source": [
    "pickle_off = open(\"df.pickle\",\"rb\")\n",
    "dfMeta = pickle.load(pickle_off)"
   ]
  },
  {
   "cell_type": "markdown",
   "metadata": {},
   "source": [
    "We now inspect the data frame containing the meta data."
   ]
  },
  {
   "cell_type": "code",
   "execution_count": 103,
   "metadata": {
    "scrolled": true
   },
   "outputs": [
    {
     "data": {
      "text/html": [
       "<div>\n",
       "<style>\n",
       "    .dataframe thead tr:only-child th {\n",
       "        text-align: right;\n",
       "    }\n",
       "\n",
       "    .dataframe thead th {\n",
       "        text-align: left;\n",
       "    }\n",
       "\n",
       "    .dataframe tbody tr th {\n",
       "        vertical-align: top;\n",
       "    }\n",
       "</style>\n",
       "<table border=\"1\" class=\"dataframe\">\n",
       "  <thead>\n",
       "    <tr style=\"text-align: right;\">\n",
       "      <th></th>\n",
       "      <th>asin</th>\n",
       "      <th>brand</th>\n",
       "      <th>categories</th>\n",
       "      <th>description</th>\n",
       "      <th>imUrl</th>\n",
       "      <th>price</th>\n",
       "      <th>related</th>\n",
       "      <th>salesRank</th>\n",
       "      <th>title</th>\n",
       "    </tr>\n",
       "  </thead>\n",
       "  <tbody>\n",
       "    <tr>\n",
       "      <th>0</th>\n",
       "      <td>0060885521</td>\n",
       "      <td>NaN</td>\n",
       "      <td>[[Books]]</td>\n",
       "      <td>This straightforward chronology of Laura Ingal...</td>\n",
       "      <td>http://ecx.images-amazon.com/images/I/51mxgPwD...</td>\n",
       "      <td>14.91</td>\n",
       "      <td>{'bought_together': ['0060724927', '0060278420...</td>\n",
       "      <td>{'Books': 32650}</td>\n",
       "      <td>Laura Ingalls Wilder: A Biography (Little House)</td>\n",
       "    </tr>\n",
       "    <tr>\n",
       "      <th>1</th>\n",
       "      <td>0060885343</td>\n",
       "      <td>NaN</td>\n",
       "      <td>[[Books]]</td>\n",
       "      <td>Jane Buckingham is the president of Trendera, ...</td>\n",
       "      <td>http://ecx.images-amazon.com/images/I/51bPCBrA...</td>\n",
       "      <td>4.74</td>\n",
       "      <td>{'bought_together': ['0060734167'], 'also_boug...</td>\n",
       "      <td>{'Books': 37792}</td>\n",
       "      <td>The Modern Girl's Guide to Motherhood</td>\n",
       "    </tr>\n",
       "    <tr>\n",
       "      <th>2</th>\n",
       "      <td>006088617X</td>\n",
       "      <td>NaN</td>\n",
       "      <td>[[Books]]</td>\n",
       "      <td>NaN</td>\n",
       "      <td>http://ecx.images-amazon.com/images/I/51TXrfXI...</td>\n",
       "      <td>4.74</td>\n",
       "      <td>{'also_bought': ['0060886188', '0060886161', '...</td>\n",
       "      <td>{'Books': 662216}</td>\n",
       "      <td>Castaway Colt (Wild Horse Island, No. 4)</td>\n",
       "    </tr>\n",
       "    <tr>\n",
       "      <th>3</th>\n",
       "      <td>0060885629</td>\n",
       "      <td>NaN</td>\n",
       "      <td>[[Books]]</td>\n",
       "      <td>Formerly a curator at the Smithsonian's Nation...</td>\n",
       "      <td>http://ecx.images-amazon.com/images/I/51n4gr7z...</td>\n",
       "      <td>24.22</td>\n",
       "      <td>{'bought_together': ['1137278285'], 'also_boug...</td>\n",
       "      <td>{'Books': 235353}</td>\n",
       "      <td>The Star-Spangled Banner: The Making of an Ame...</td>\n",
       "    </tr>\n",
       "    <tr>\n",
       "      <th>4</th>\n",
       "      <td>0060887354</td>\n",
       "      <td>NaN</td>\n",
       "      <td>[[Books]]</td>\n",
       "      <td>'Gritty, intimate and revealing' Heat 'Addicti...</td>\n",
       "      <td>http://ecx.images-amazon.com/images/I/4130FD5A...</td>\n",
       "      <td>6.56</td>\n",
       "      <td>{'bought_together': ['0062009540', '0060887389...</td>\n",
       "      <td>{'Books': 689138}</td>\n",
       "      <td>Flawless (Pretty Little Liars, Book 2)</td>\n",
       "    </tr>\n",
       "  </tbody>\n",
       "</table>\n",
       "</div>"
      ],
      "text/plain": [
       "         asin brand categories  \\\n",
       "0  0060885521   NaN  [[Books]]   \n",
       "1  0060885343   NaN  [[Books]]   \n",
       "2  006088617X   NaN  [[Books]]   \n",
       "3  0060885629   NaN  [[Books]]   \n",
       "4  0060887354   NaN  [[Books]]   \n",
       "\n",
       "                                         description  \\\n",
       "0  This straightforward chronology of Laura Ingal...   \n",
       "1  Jane Buckingham is the president of Trendera, ...   \n",
       "2                                                NaN   \n",
       "3  Formerly a curator at the Smithsonian's Nation...   \n",
       "4  'Gritty, intimate and revealing' Heat 'Addicti...   \n",
       "\n",
       "                                               imUrl  price  \\\n",
       "0  http://ecx.images-amazon.com/images/I/51mxgPwD...  14.91   \n",
       "1  http://ecx.images-amazon.com/images/I/51bPCBrA...   4.74   \n",
       "2  http://ecx.images-amazon.com/images/I/51TXrfXI...   4.74   \n",
       "3  http://ecx.images-amazon.com/images/I/51n4gr7z...  24.22   \n",
       "4  http://ecx.images-amazon.com/images/I/4130FD5A...   6.56   \n",
       "\n",
       "                                             related          salesRank  \\\n",
       "0  {'bought_together': ['0060724927', '0060278420...   {'Books': 32650}   \n",
       "1  {'bought_together': ['0060734167'], 'also_boug...   {'Books': 37792}   \n",
       "2  {'also_bought': ['0060886188', '0060886161', '...  {'Books': 662216}   \n",
       "3  {'bought_together': ['1137278285'], 'also_boug...  {'Books': 235353}   \n",
       "4  {'bought_together': ['0062009540', '0060887389...  {'Books': 689138}   \n",
       "\n",
       "                                               title  \n",
       "0   Laura Ingalls Wilder: A Biography (Little House)  \n",
       "1              The Modern Girl's Guide to Motherhood  \n",
       "2           Castaway Colt (Wild Horse Island, No. 4)  \n",
       "3  The Star-Spangled Banner: The Making of an Ame...  \n",
       "4             Flawless (Pretty Little Liars, Book 2)  "
      ]
     },
     "execution_count": 103,
     "metadata": {},
     "output_type": "execute_result"
    }
   ],
   "source": [
    "dfMeta.head(5)"
   ]
  },
  {
   "cell_type": "markdown",
   "metadata": {},
   "source": [
    "We see that we have nine columns in total:\n",
    "\n",
    "- asin (This is the id of the product)\n",
    "- brand\n",
    "- categories (list of different categories, that the product belongs to)\n",
    "- description (can be very long, e.g. a book summary)\n",
    "- imUrl (URL to picture of the product)\n",
    "- price\n",
    "- related (dictionary of different features concerning related products. In particular: also_bpught, also_viewed, boght_together)\n",
    "- salesRank (ranking of product within their category based on how much it sells)\n",
    "- title\n",
    "\n",
    "Most of these things are observable from the dataset, but some things needed a seperate explaination such as the salesRank, which we found on Amazon.com."
   ]
  },
  {
   "cell_type": "markdown",
   "metadata": {},
   "source": [
    "In order to manually see if something is off with the data, e.g. unexpected or missing values, we export the first 2000 records to an html table and take a look at that file. Here is shown the first five records. "
   ]
  },
  {
   "cell_type": "code",
   "execution_count": 102,
   "metadata": {},
   "outputs": [],
   "source": [
    "dfMeta[:2000].to_html('Metasubset.html')"
   ]
  },
  {
   "cell_type": "markdown",
   "metadata": {},
   "source": [
    "**Observations form the inspection of the HTML table:**\n",
    "\n",
    "In the html table we see that there are many missing values also within the important attributes such as price and salesRank. This is going to cause some issue in the further analysis and there for the strategy for the handling of this is important. We want to later examine the correlations between price and ratings and rating and SalesRank. In that sense it might be interesting to see which categories have the least missing values in order to select those categories for these kinds of analysis. \n",
    "\n",
    "Another thing that is noticed, is that apart from having missing values the Brand column also contains values called ‘Unknown’. This indicate that a seller at Amazon can mark the brand as ‘Unknown’ as well as just not putting any value. As long a we keep this in mind it should not be a problem later.\n",
    "\n",
    "*Some of these observations has been made on different subsets of the meta data*\n"
   ]
  },
  {
   "cell_type": "markdown",
   "metadata": {},
   "source": [
    "Another interesting thing can be to look at the distribution of the variables. Here we take a look at the price distribution."
   ]
  },
  {
   "cell_type": "code",
   "execution_count": 79,
   "metadata": {
    "scrolled": true
   },
   "outputs": [
    {
     "data": {
      "image/png": "[encoded data removed]",
      "text/plain": [
       "<matplotlib.figure.Figure at 0x2d2e7d92ba8>"
      ]
     },
     "metadata": {},
     "output_type": "display_data"
    }
   ],
   "source": [
    "#Figure, histogram\n",
    "plt.rcParams['figure.figsize'] = (17, 5)\n",
    "\n",
    "plt.hist(dfMeta['price'].dropna(), bins=100)\n",
    "\n",
    "plt.title('Distribution of prices')\n",
    "plt.xlabel('Price')\n",
    "plt.ylabel('Amount')\n",
    "plt.show()"
   ]
  },
  {
   "cell_type": "code",
   "execution_count": 104,
   "metadata": {},
   "outputs": [
    {
     "data": {
      "text/plain": [
       "992.75"
      ]
     },
     "execution_count": 104,
     "metadata": {},
     "output_type": "execute_result"
    }
   ],
   "source": [
    "dfMeta['price'].max()"
   ]
  },
  {
   "cell_type": "markdown",
   "metadata": {},
   "source": [
    "From this plot we observe that most of the products are priced between 0\\$ and 100\\$. However a few products have very high prices and for our subset of the data up to almost 1000$"
   ]
  },
  {
   "cell_type": "code",
   "execution_count": null,
   "metadata": {},
   "outputs": [],
   "source": []
  }
 ],
 "metadata": {
  "kernelspec": {
   "display_name": "Python 3",
   "language": "python",
   "name": "python3"
  },
  "language_info": {
   "codemirror_mode": {
    "name": "ipython",
    "version": 3
   },
   "file_extension": ".py",
   "mimetype": "text/x-python",
   "name": "python",
   "nbconvert_exporter": "python",
   "pygments_lexer": "ipython3",
   "version": "3.5.4"
  }
 },
 "nbformat": 4,
 "nbformat_minor": 2
}
